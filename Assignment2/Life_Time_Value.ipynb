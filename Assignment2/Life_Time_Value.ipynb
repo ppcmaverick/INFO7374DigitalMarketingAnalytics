{
 "cells": [
  {
   "cell_type": "markdown",
   "metadata": {},
   "source": [
    "Importing libraries"
   ]
  },
  {
   "cell_type": "code",
   "execution_count": 2,
   "metadata": {},
   "outputs": [],
   "source": [
    "import pandas as pd\n",
    "import numpy as np"
   ]
  },
  {
   "cell_type": "markdown",
   "metadata": {},
   "source": [
    "The file that we are importing gives information about what was purchased on which day during each transaction. "
   ]
  },
  {
   "cell_type": "code",
   "execution_count": 5,
   "metadata": {},
   "outputs": [],
   "source": [
    "ctd = pd.read_csv('Customer_transactions_agg.csv')"
   ]
  },
  {
   "cell_type": "code",
   "execution_count": 6,
   "metadata": {},
   "outputs": [
    {
     "name": "stdout",
     "output_type": "stream",
     "text": [
      "(142445, 8)\n",
      "   Unnamed: 0  customer_id        date  TotalPrice  selling_price  \\\n",
      "0           0            1  2012-02-21     2101.23        2603.45   \n",
      "1           1            1  2012-03-08     1125.22        1431.20   \n",
      "2           2            1  2012-03-29      511.85         691.73   \n",
      "3           3            1  2012-04-04     1600.04        1913.50   \n",
      "4           4            1  2012-04-11     1155.87        1702.28   \n",
      "\n",
      "   other_discount  coupon_discount    InvoiceNo  \n",
      "0         -537.84           -35.62  2012-02-211  \n",
      "1         -305.98             0.00  2012-03-081  \n",
      "2         -179.88             0.00  2012-03-291  \n",
      "3         -331.27           -17.81  2012-04-041  \n",
      "4         -546.41             0.00  2012-04-111  \n"
     ]
    }
   ],
   "source": [
    "print(ctd.shape)\n",
    "print(ctd.head())"
   ]
  },
  {
   "cell_type": "code",
   "execution_count": 7,
   "metadata": {},
   "outputs": [
    {
     "name": "stdout",
     "output_type": "stream",
     "text": [
      "<class 'pandas.core.frame.DataFrame'>\n",
      "RangeIndex: 142445 entries, 0 to 142444\n",
      "Data columns (total 8 columns):\n",
      "Unnamed: 0         142445 non-null int64\n",
      "customer_id        142445 non-null int64\n",
      "date               142445 non-null object\n",
      "TotalPrice         142445 non-null float64\n",
      "selling_price      142445 non-null float64\n",
      "other_discount     142445 non-null float64\n",
      "coupon_discount    142445 non-null float64\n",
      "InvoiceNo          142445 non-null object\n",
      "dtypes: float64(4), int64(2), object(2)\n",
      "memory usage: 8.7+ MB\n"
     ]
    }
   ],
   "source": [
    "ctd.info()"
   ]
  },
  {
   "cell_type": "code",
   "execution_count": 8,
   "metadata": {},
   "outputs": [
    {
     "data": {
      "text/plain": [
       "Unnamed: 0         0\n",
       "customer_id        0\n",
       "date               0\n",
       "TotalPrice         0\n",
       "selling_price      0\n",
       "other_discount     0\n",
       "coupon_discount    0\n",
       "InvoiceNo          0\n",
       "dtype: int64"
      ]
     },
     "execution_count": 8,
     "metadata": {},
     "output_type": "execute_result"
    }
   ],
   "source": [
    "ctd.isnull().sum()"
   ]
  },
  {
   "cell_type": "markdown",
   "metadata": {},
   "source": [
    "No null values"
   ]
  },
  {
   "cell_type": "code",
   "execution_count": 9,
   "metadata": {},
   "outputs": [],
   "source": [
    "ctd = ctd.drop_duplicates()"
   ]
  },
  {
   "cell_type": "code",
   "execution_count": 10,
   "metadata": {},
   "outputs": [
    {
     "data": {
      "text/plain": [
       "(142445, 8)"
      ]
     },
     "execution_count": 10,
     "metadata": {},
     "output_type": "execute_result"
    }
   ],
   "source": [
    "ctd.shape"
   ]
  },
  {
   "cell_type": "code",
   "execution_count": 11,
   "metadata": {},
   "outputs": [
    {
     "data": {
      "text/html": [
       "<div>\n",
       "<style scoped>\n",
       "    .dataframe tbody tr th:only-of-type {\n",
       "        vertical-align: middle;\n",
       "    }\n",
       "\n",
       "    .dataframe tbody tr th {\n",
       "        vertical-align: top;\n",
       "    }\n",
       "\n",
       "    .dataframe thead th {\n",
       "        text-align: right;\n",
       "    }\n",
       "</style>\n",
       "<table border=\"1\" class=\"dataframe\">\n",
       "  <thead>\n",
       "    <tr style=\"text-align: right;\">\n",
       "      <th></th>\n",
       "      <th>Unnamed: 0</th>\n",
       "      <th>customer_id</th>\n",
       "      <th>date</th>\n",
       "      <th>TotalPrice</th>\n",
       "      <th>selling_price</th>\n",
       "      <th>other_discount</th>\n",
       "      <th>coupon_discount</th>\n",
       "      <th>InvoiceNo</th>\n",
       "    </tr>\n",
       "  </thead>\n",
       "  <tbody>\n",
       "    <tr>\n",
       "      <th>0</th>\n",
       "      <td>0</td>\n",
       "      <td>1</td>\n",
       "      <td>2012-02-21</td>\n",
       "      <td>2101.23</td>\n",
       "      <td>2603.45</td>\n",
       "      <td>-537.84</td>\n",
       "      <td>-35.62</td>\n",
       "      <td>2012-02-211</td>\n",
       "    </tr>\n",
       "    <tr>\n",
       "      <th>1</th>\n",
       "      <td>1</td>\n",
       "      <td>1</td>\n",
       "      <td>2012-03-08</td>\n",
       "      <td>1125.22</td>\n",
       "      <td>1431.20</td>\n",
       "      <td>-305.98</td>\n",
       "      <td>0.00</td>\n",
       "      <td>2012-03-081</td>\n",
       "    </tr>\n",
       "    <tr>\n",
       "      <th>2</th>\n",
       "      <td>2</td>\n",
       "      <td>1</td>\n",
       "      <td>2012-03-29</td>\n",
       "      <td>511.85</td>\n",
       "      <td>691.73</td>\n",
       "      <td>-179.88</td>\n",
       "      <td>0.00</td>\n",
       "      <td>2012-03-291</td>\n",
       "    </tr>\n",
       "    <tr>\n",
       "      <th>3</th>\n",
       "      <td>3</td>\n",
       "      <td>1</td>\n",
       "      <td>2012-04-04</td>\n",
       "      <td>1600.04</td>\n",
       "      <td>1913.50</td>\n",
       "      <td>-331.27</td>\n",
       "      <td>-17.81</td>\n",
       "      <td>2012-04-041</td>\n",
       "    </tr>\n",
       "    <tr>\n",
       "      <th>4</th>\n",
       "      <td>4</td>\n",
       "      <td>1</td>\n",
       "      <td>2012-04-11</td>\n",
       "      <td>1155.87</td>\n",
       "      <td>1702.28</td>\n",
       "      <td>-546.41</td>\n",
       "      <td>0.00</td>\n",
       "      <td>2012-04-111</td>\n",
       "    </tr>\n",
       "  </tbody>\n",
       "</table>\n",
       "</div>"
      ],
      "text/plain": [
       "   Unnamed: 0  customer_id        date  TotalPrice  selling_price  \\\n",
       "0           0            1  2012-02-21     2101.23        2603.45   \n",
       "1           1            1  2012-03-08     1125.22        1431.20   \n",
       "2           2            1  2012-03-29      511.85         691.73   \n",
       "3           3            1  2012-04-04     1600.04        1913.50   \n",
       "4           4            1  2012-04-11     1155.87        1702.28   \n",
       "\n",
       "   other_discount  coupon_discount    InvoiceNo  \n",
       "0         -537.84           -35.62  2012-02-211  \n",
       "1         -305.98             0.00  2012-03-081  \n",
       "2         -179.88             0.00  2012-03-291  \n",
       "3         -331.27           -17.81  2012-04-041  \n",
       "4         -546.41             0.00  2012-04-111  "
      ]
     },
     "execution_count": 11,
     "metadata": {},
     "output_type": "execute_result"
    }
   ],
   "source": [
    "ctd.head()"
   ]
  },
  {
   "cell_type": "code",
   "execution_count": 12,
   "metadata": {},
   "outputs": [
    {
     "name": "stdout",
     "output_type": "stream",
     "text": [
      "object\n",
      "datetime64[ns]\n"
     ]
    }
   ],
   "source": [
    "import datetime as dt\n",
    "current_date = dt.datetime(2013,7,4)\n",
    "current_date\n",
    "print(ctd.date.dtype)\n",
    "ctd['date'] = pd.to_datetime(ctd['date'])\n",
    "print(ctd.date.dtype)"
   ]
  },
  {
   "cell_type": "markdown",
   "metadata": {},
   "source": [
    "The life time value is considered based on 1 years transactions"
   ]
  },
  {
   "cell_type": "code",
   "execution_count": 13,
   "metadata": {},
   "outputs": [],
   "source": [
    "ctd = ctd[ (ctd['date']>'2012-01-02') & (ctd['date'] < '2013-01-03')]"
   ]
  },
  {
   "cell_type": "code",
   "execution_count": 14,
   "metadata": {},
   "outputs": [
    {
     "data": {
      "text/plain": [
       "(88317, 8)"
      ]
     },
     "execution_count": 14,
     "metadata": {},
     "output_type": "execute_result"
    }
   ],
   "source": [
    "ctd.shape"
   ]
  },
  {
   "cell_type": "markdown",
   "metadata": {},
   "source": [
    "To calculate the total sum  of purchase per customer based on his customer_id"
   ]
  },
  {
   "cell_type": "code",
   "execution_count": 15,
   "metadata": {},
   "outputs": [],
   "source": [
    "ctd_merge = ctd.groupby(['customer_id','InvoiceNo']).agg({'TotalPrice': 'sum'})"
   ]
  },
  {
   "cell_type": "code",
   "execution_count": 16,
   "metadata": {},
   "outputs": [],
   "source": [
    "ctd_merge=ctd_merge.reset_index()"
   ]
  },
  {
   "cell_type": "code",
   "execution_count": 17,
   "metadata": {},
   "outputs": [],
   "source": [
    "ctd_merge = ctd_merge.groupby(['customer_id']).agg({'TotalPrice': 'sum','customer_id':'count'})"
   ]
  },
  {
   "cell_type": "code",
   "execution_count": 18,
   "metadata": {},
   "outputs": [
    {
     "data": {
      "text/html": [
       "<div>\n",
       "<style scoped>\n",
       "    .dataframe tbody tr th:only-of-type {\n",
       "        vertical-align: middle;\n",
       "    }\n",
       "\n",
       "    .dataframe tbody tr th {\n",
       "        vertical-align: top;\n",
       "    }\n",
       "\n",
       "    .dataframe thead th {\n",
       "        text-align: right;\n",
       "    }\n",
       "</style>\n",
       "<table border=\"1\" class=\"dataframe\">\n",
       "  <thead>\n",
       "    <tr style=\"text-align: right;\">\n",
       "      <th></th>\n",
       "      <th>TotalPrice</th>\n",
       "      <th>customer_id</th>\n",
       "    </tr>\n",
       "    <tr>\n",
       "      <th>customer_id</th>\n",
       "      <th></th>\n",
       "      <th></th>\n",
       "    </tr>\n",
       "  </thead>\n",
       "  <tbody>\n",
       "    <tr>\n",
       "      <th>1</th>\n",
       "      <td>51737.06</td>\n",
       "      <td>33</td>\n",
       "    </tr>\n",
       "    <tr>\n",
       "      <th>2</th>\n",
       "      <td>24176.29</td>\n",
       "      <td>28</td>\n",
       "    </tr>\n",
       "    <tr>\n",
       "      <th>3</th>\n",
       "      <td>49172.86</td>\n",
       "      <td>29</td>\n",
       "    </tr>\n",
       "    <tr>\n",
       "      <th>4</th>\n",
       "      <td>28690.83</td>\n",
       "      <td>22</td>\n",
       "    </tr>\n",
       "    <tr>\n",
       "      <th>5</th>\n",
       "      <td>56424.57</td>\n",
       "      <td>92</td>\n",
       "    </tr>\n",
       "  </tbody>\n",
       "</table>\n",
       "</div>"
      ],
      "text/plain": [
       "             TotalPrice  customer_id\n",
       "customer_id                         \n",
       "1              51737.06           33\n",
       "2              24176.29           28\n",
       "3              49172.86           29\n",
       "4              28690.83           22\n",
       "5              56424.57           92"
      ]
     },
     "execution_count": 18,
     "metadata": {},
     "output_type": "execute_result"
    }
   ],
   "source": [
    "ctd_merge.head()"
   ]
  },
  {
   "cell_type": "code",
   "execution_count": 19,
   "metadata": {},
   "outputs": [],
   "source": [
    "ctd_merge.rename(columns = {'customer_id': 'Total_visits'}, inplace=True)"
   ]
  },
  {
   "cell_type": "code",
   "execution_count": 20,
   "metadata": {},
   "outputs": [
    {
     "data": {
      "text/html": [
       "<div>\n",
       "<style scoped>\n",
       "    .dataframe tbody tr th:only-of-type {\n",
       "        vertical-align: middle;\n",
       "    }\n",
       "\n",
       "    .dataframe tbody tr th {\n",
       "        vertical-align: top;\n",
       "    }\n",
       "\n",
       "    .dataframe thead th {\n",
       "        text-align: right;\n",
       "    }\n",
       "</style>\n",
       "<table border=\"1\" class=\"dataframe\">\n",
       "  <thead>\n",
       "    <tr style=\"text-align: right;\">\n",
       "      <th></th>\n",
       "      <th>TotalPrice</th>\n",
       "      <th>Total_visits</th>\n",
       "    </tr>\n",
       "    <tr>\n",
       "      <th>customer_id</th>\n",
       "      <th></th>\n",
       "      <th></th>\n",
       "    </tr>\n",
       "  </thead>\n",
       "  <tbody>\n",
       "    <tr>\n",
       "      <th>1</th>\n",
       "      <td>51737.06</td>\n",
       "      <td>33</td>\n",
       "    </tr>\n",
       "    <tr>\n",
       "      <th>2</th>\n",
       "      <td>24176.29</td>\n",
       "      <td>28</td>\n",
       "    </tr>\n",
       "    <tr>\n",
       "      <th>3</th>\n",
       "      <td>49172.86</td>\n",
       "      <td>29</td>\n",
       "    </tr>\n",
       "    <tr>\n",
       "      <th>4</th>\n",
       "      <td>28690.83</td>\n",
       "      <td>22</td>\n",
       "    </tr>\n",
       "    <tr>\n",
       "      <th>5</th>\n",
       "      <td>56424.57</td>\n",
       "      <td>92</td>\n",
       "    </tr>\n",
       "  </tbody>\n",
       "</table>\n",
       "</div>"
      ],
      "text/plain": [
       "             TotalPrice  Total_visits\n",
       "customer_id                          \n",
       "1              51737.06            33\n",
       "2              24176.29            28\n",
       "3              49172.86            29\n",
       "4              28690.83            22\n",
       "5              56424.57            92"
      ]
     },
     "execution_count": 20,
     "metadata": {},
     "output_type": "execute_result"
    }
   ],
   "source": [
    "ctd_merge.head()"
   ]
  },
  {
   "cell_type": "code",
   "execution_count": 21,
   "metadata": {},
   "outputs": [],
   "source": [
    "ctd_merge=ctd_merge.reset_index()"
   ]
  },
  {
   "cell_type": "code",
   "execution_count": 22,
   "metadata": {},
   "outputs": [
    {
     "data": {
      "text/html": [
       "<div>\n",
       "<style scoped>\n",
       "    .dataframe tbody tr th:only-of-type {\n",
       "        vertical-align: middle;\n",
       "    }\n",
       "\n",
       "    .dataframe tbody tr th {\n",
       "        vertical-align: top;\n",
       "    }\n",
       "\n",
       "    .dataframe thead th {\n",
       "        text-align: right;\n",
       "    }\n",
       "</style>\n",
       "<table border=\"1\" class=\"dataframe\">\n",
       "  <thead>\n",
       "    <tr style=\"text-align: right;\">\n",
       "      <th></th>\n",
       "      <th>customer_id</th>\n",
       "      <th>TotalPrice</th>\n",
       "      <th>Total_visits</th>\n",
       "    </tr>\n",
       "  </thead>\n",
       "  <tbody>\n",
       "    <tr>\n",
       "      <th>0</th>\n",
       "      <td>1</td>\n",
       "      <td>51737.06</td>\n",
       "      <td>33</td>\n",
       "    </tr>\n",
       "    <tr>\n",
       "      <th>1</th>\n",
       "      <td>2</td>\n",
       "      <td>24176.29</td>\n",
       "      <td>28</td>\n",
       "    </tr>\n",
       "    <tr>\n",
       "      <th>2</th>\n",
       "      <td>3</td>\n",
       "      <td>49172.86</td>\n",
       "      <td>29</td>\n",
       "    </tr>\n",
       "    <tr>\n",
       "      <th>3</th>\n",
       "      <td>4</td>\n",
       "      <td>28690.83</td>\n",
       "      <td>22</td>\n",
       "    </tr>\n",
       "    <tr>\n",
       "      <th>4</th>\n",
       "      <td>5</td>\n",
       "      <td>56424.57</td>\n",
       "      <td>92</td>\n",
       "    </tr>\n",
       "  </tbody>\n",
       "</table>\n",
       "</div>"
      ],
      "text/plain": [
       "   customer_id  TotalPrice  Total_visits\n",
       "0            1    51737.06            33\n",
       "1            2    24176.29            28\n",
       "2            3    49172.86            29\n",
       "3            4    28690.83            22\n",
       "4            5    56424.57            92"
      ]
     },
     "execution_count": 22,
     "metadata": {},
     "output_type": "execute_result"
    }
   ],
   "source": [
    "ctd_merge.head()"
   ]
  },
  {
   "cell_type": "markdown",
   "metadata": {},
   "source": [
    "Profit data is missing- generate using a random function"
   ]
  },
  {
   "cell_type": "code",
   "execution_count": 23,
   "metadata": {},
   "outputs": [],
   "source": [
    "from random import randint\n",
    "ctd_merge['Total_Profit'] = np.random.randint(5,9,size=1581)/10"
   ]
  },
  {
   "cell_type": "code",
   "execution_count": 24,
   "metadata": {},
   "outputs": [
    {
     "data": {
      "text/plain": [
       "0.6    410\n",
       "0.8    391\n",
       "0.7    391\n",
       "0.5    389\n",
       "Name: Total_Profit, dtype: int64"
      ]
     },
     "execution_count": 24,
     "metadata": {},
     "output_type": "execute_result"
    }
   ],
   "source": [
    "ctd_merge['Total_Profit'].value_counts()"
   ]
  },
  {
   "cell_type": "markdown",
   "metadata": {},
   "source": [
    "Formula for customer Lifetime value- based on one year's data and assuming they'll be a customer for 5 more years."
   ]
  },
  {
   "cell_type": "code",
   "execution_count": 25,
   "metadata": {},
   "outputs": [],
   "source": [
    "ctd_merge['Customer_Lifetime_value']=(ctd_merge['TotalPrice']*ctd_merge['Total_Profit']*ctd_merge['Total_visits']*5/1000).astype(int)"
   ]
  },
  {
   "cell_type": "code",
   "execution_count": 26,
   "metadata": {},
   "outputs": [
    {
     "data": {
      "text/html": [
       "<div>\n",
       "<style scoped>\n",
       "    .dataframe tbody tr th:only-of-type {\n",
       "        vertical-align: middle;\n",
       "    }\n",
       "\n",
       "    .dataframe tbody tr th {\n",
       "        vertical-align: top;\n",
       "    }\n",
       "\n",
       "    .dataframe thead th {\n",
       "        text-align: right;\n",
       "    }\n",
       "</style>\n",
       "<table border=\"1\" class=\"dataframe\">\n",
       "  <thead>\n",
       "    <tr style=\"text-align: right;\">\n",
       "      <th></th>\n",
       "      <th>customer_id</th>\n",
       "      <th>TotalPrice</th>\n",
       "      <th>Total_visits</th>\n",
       "      <th>Total_Profit</th>\n",
       "      <th>Customer_Lifetime_value</th>\n",
       "    </tr>\n",
       "  </thead>\n",
       "  <tbody>\n",
       "    <tr>\n",
       "      <th>0</th>\n",
       "      <td>1</td>\n",
       "      <td>51737.06</td>\n",
       "      <td>33</td>\n",
       "      <td>0.5</td>\n",
       "      <td>4268</td>\n",
       "    </tr>\n",
       "    <tr>\n",
       "      <th>1</th>\n",
       "      <td>2</td>\n",
       "      <td>24176.29</td>\n",
       "      <td>28</td>\n",
       "      <td>0.8</td>\n",
       "      <td>2707</td>\n",
       "    </tr>\n",
       "    <tr>\n",
       "      <th>2</th>\n",
       "      <td>3</td>\n",
       "      <td>49172.86</td>\n",
       "      <td>29</td>\n",
       "      <td>0.7</td>\n",
       "      <td>4991</td>\n",
       "    </tr>\n",
       "    <tr>\n",
       "      <th>3</th>\n",
       "      <td>4</td>\n",
       "      <td>28690.83</td>\n",
       "      <td>22</td>\n",
       "      <td>0.5</td>\n",
       "      <td>1577</td>\n",
       "    </tr>\n",
       "    <tr>\n",
       "      <th>4</th>\n",
       "      <td>5</td>\n",
       "      <td>56424.57</td>\n",
       "      <td>92</td>\n",
       "      <td>0.7</td>\n",
       "      <td>18168</td>\n",
       "    </tr>\n",
       "  </tbody>\n",
       "</table>\n",
       "</div>"
      ],
      "text/plain": [
       "   customer_id  TotalPrice  Total_visits  Total_Profit  \\\n",
       "0            1    51737.06            33           0.5   \n",
       "1            2    24176.29            28           0.8   \n",
       "2            3    49172.86            29           0.7   \n",
       "3            4    28690.83            22           0.5   \n",
       "4            5    56424.57            92           0.7   \n",
       "\n",
       "   Customer_Lifetime_value  \n",
       "0                     4268  \n",
       "1                     2707  \n",
       "2                     4991  \n",
       "3                     1577  \n",
       "4                    18168  "
      ]
     },
     "execution_count": 26,
     "metadata": {},
     "output_type": "execute_result"
    }
   ],
   "source": [
    "ctd_merge.head()"
   ]
  },
  {
   "cell_type": "code",
   "execution_count": 27,
   "metadata": {},
   "outputs": [],
   "source": [
    "import matplotlib.pyplot as plt\n"
   ]
  },
  {
   "cell_type": "code",
   "execution_count": 28,
   "metadata": {},
   "outputs": [
    {
     "data": {
      "text/plain": [
       "<matplotlib.axes._subplots.AxesSubplot at 0x1a9ab763a90>"
      ]
     },
     "execution_count": 28,
     "metadata": {},
     "output_type": "execute_result"
    },
    {
     "data": {
      "image/png": "[encoded data removed]",
      "text/plain": [
       "<Figure size 432x288 with 1 Axes>"
      ]
     },
     "metadata": {
      "needs_background": "light"
     },
     "output_type": "display_data"
    }
   ],
   "source": [
    "ctd_merge['Customer_Lifetime_value'].plot(kind='hist')"
   ]
  },
  {
   "cell_type": "code",
   "execution_count": 41,
   "metadata": {},
   "outputs": [],
   "source": [
    "criteria = [ctd_merge['Customer_Lifetime_value'].between(0, 25000), \n",
    "            ctd_merge['Customer_Lifetime_value'].between(25001, 50000), \n",
    "            ctd_merge['Customer_Lifetime_value'].between(50001, 75000),\n",
    "            ctd_merge['Customer_Lifetime_value'].between(75001, 100000)]\n",
    "values = ['Copper', 'Silver', 'Gold', 'Platinum']\n",
    "\n",
    "ctd_merge['CLV_Category'] = np.select(criteria, values, 'Platinum' )"
   ]
  },
  {
   "cell_type": "code",
   "execution_count": 36,
   "metadata": {},
   "outputs": [
    {
     "data": {
      "text/plain": [
       "(1581, 6)"
      ]
     },
     "execution_count": 36,
     "metadata": {},
     "output_type": "execute_result"
    }
   ],
   "source": [
    "ctd_merge.shape"
   ]
  },
  {
   "cell_type": "code",
   "execution_count": 42,
   "metadata": {},
   "outputs": [
    {
     "data": {
      "text/plain": [
       "1045     3\n",
       "1009     3\n",
       "2399     3\n",
       "2044     3\n",
       "2243     3\n",
       "1686     2\n",
       "2852     2\n",
       "1938     2\n",
       "4439     2\n",
       "5018     2\n",
       "4700     2\n",
       "2648     2\n",
       "802      2\n",
       "2022     2\n",
       "984      2\n",
       "333      2\n",
       "3847     2\n",
       "1051     2\n",
       "860      2\n",
       "3094     2\n",
       "2979     2\n",
       "1404     2\n",
       "21096    2\n",
       "7821     2\n",
       "1378     2\n",
       "4268     2\n",
       "870      2\n",
       "856      2\n",
       "391      2\n",
       "4469     2\n",
       "        ..\n",
       "1367     1\n",
       "34143    1\n",
       "7292     1\n",
       "1372     1\n",
       "6299     1\n",
       "12889    1\n",
       "3870     1\n",
       "46401    1\n",
       "36138    1\n",
       "66667    1\n",
       "12952    1\n",
       "1904     1\n",
       "1325     1\n",
       "1326     1\n",
       "1327     1\n",
       "1328     1\n",
       "3377     1\n",
       "2939     1\n",
       "1331     1\n",
       "7476     1\n",
       "2166     1\n",
       "5430     1\n",
       "2630     1\n",
       "16144    1\n",
       "23525    1\n",
       "1344     1\n",
       "1213     1\n",
       "1341     1\n",
       "1343     1\n",
       "22528    1\n",
       "Name: Customer_Lifetime_value, Length: 1518, dtype: int64"
      ]
     },
     "execution_count": 42,
     "metadata": {},
     "output_type": "execute_result"
    }
   ],
   "source": [
    "ctd_merge['Customer_Lifetime_value'].value_counts()"
   ]
  },
  {
   "cell_type": "code",
   "execution_count": 43,
   "metadata": {},
   "outputs": [
    {
     "data": {
      "text/html": [
       "<div>\n",
       "<style scoped>\n",
       "    .dataframe tbody tr th:only-of-type {\n",
       "        vertical-align: middle;\n",
       "    }\n",
       "\n",
       "    .dataframe tbody tr th {\n",
       "        vertical-align: top;\n",
       "    }\n",
       "\n",
       "    .dataframe thead th {\n",
       "        text-align: right;\n",
       "    }\n",
       "</style>\n",
       "<table border=\"1\" class=\"dataframe\">\n",
       "  <thead>\n",
       "    <tr style=\"text-align: right;\">\n",
       "      <th></th>\n",
       "      <th>customer_id</th>\n",
       "      <th>TotalPrice</th>\n",
       "      <th>Total_visits</th>\n",
       "      <th>Total_Profit</th>\n",
       "      <th>Customer_Lifetime_value</th>\n",
       "      <th>CLV_Category</th>\n",
       "    </tr>\n",
       "  </thead>\n",
       "  <tbody>\n",
       "    <tr>\n",
       "      <th>0</th>\n",
       "      <td>1</td>\n",
       "      <td>51737.06</td>\n",
       "      <td>33</td>\n",
       "      <td>0.5</td>\n",
       "      <td>4268</td>\n",
       "      <td>Copper</td>\n",
       "    </tr>\n",
       "    <tr>\n",
       "      <th>1</th>\n",
       "      <td>2</td>\n",
       "      <td>24176.29</td>\n",
       "      <td>28</td>\n",
       "      <td>0.8</td>\n",
       "      <td>2707</td>\n",
       "      <td>Copper</td>\n",
       "    </tr>\n",
       "    <tr>\n",
       "      <th>2</th>\n",
       "      <td>3</td>\n",
       "      <td>49172.86</td>\n",
       "      <td>29</td>\n",
       "      <td>0.7</td>\n",
       "      <td>4991</td>\n",
       "      <td>Copper</td>\n",
       "    </tr>\n",
       "    <tr>\n",
       "      <th>3</th>\n",
       "      <td>4</td>\n",
       "      <td>28690.83</td>\n",
       "      <td>22</td>\n",
       "      <td>0.5</td>\n",
       "      <td>1577</td>\n",
       "      <td>Copper</td>\n",
       "    </tr>\n",
       "    <tr>\n",
       "      <th>4</th>\n",
       "      <td>5</td>\n",
       "      <td>56424.57</td>\n",
       "      <td>92</td>\n",
       "      <td>0.7</td>\n",
       "      <td>18168</td>\n",
       "      <td>Copper</td>\n",
       "    </tr>\n",
       "  </tbody>\n",
       "</table>\n",
       "</div>"
      ],
      "text/plain": [
       "   customer_id  TotalPrice  Total_visits  Total_Profit  \\\n",
       "0            1    51737.06            33           0.5   \n",
       "1            2    24176.29            28           0.8   \n",
       "2            3    49172.86            29           0.7   \n",
       "3            4    28690.83            22           0.5   \n",
       "4            5    56424.57            92           0.7   \n",
       "\n",
       "   Customer_Lifetime_value CLV_Category  \n",
       "0                     4268       Copper  \n",
       "1                     2707       Copper  \n",
       "2                     4991       Copper  \n",
       "3                     1577       Copper  \n",
       "4                    18168       Copper  "
      ]
     },
     "execution_count": 43,
     "metadata": {},
     "output_type": "execute_result"
    }
   ],
   "source": [
    "ctd_merge.head()"
   ]
  },
  {
   "cell_type": "markdown",
   "metadata": {},
   "source": [
    "Shows the number of customers in each Category . Fewer in the Gold category"
   ]
  },
  {
   "cell_type": "code",
   "execution_count": 47,
   "metadata": {},
   "outputs": [
    {
     "data": {
      "text/plain": [
       "Copper      1375\n",
       "Silver       138\n",
       "Platinum      38\n",
       "Gold          30\n",
       "Name: CLV_Category, dtype: int64"
      ]
     },
     "execution_count": 47,
     "metadata": {},
     "output_type": "execute_result"
    }
   ],
   "source": [
    "ctd_merge['CLV_Category'].value_counts()"
   ]
  },
  {
   "cell_type": "code",
   "execution_count": 48,
   "metadata": {},
   "outputs": [
    {
     "data": {
      "text/html": [
       "<div>\n",
       "<style scoped>\n",
       "    .dataframe tbody tr th:only-of-type {\n",
       "        vertical-align: middle;\n",
       "    }\n",
       "\n",
       "    .dataframe tbody tr th {\n",
       "        vertical-align: top;\n",
       "    }\n",
       "\n",
       "    .dataframe thead th {\n",
       "        text-align: right;\n",
       "    }\n",
       "</style>\n",
       "<table border=\"1\" class=\"dataframe\">\n",
       "  <thead>\n",
       "    <tr style=\"text-align: right;\">\n",
       "      <th></th>\n",
       "      <th>customer_id</th>\n",
       "      <th>TotalPrice</th>\n",
       "      <th>Total_visits</th>\n",
       "      <th>Total_Profit</th>\n",
       "      <th>Customer_Lifetime_value</th>\n",
       "      <th>CLV_Category</th>\n",
       "    </tr>\n",
       "  </thead>\n",
       "  <tbody>\n",
       "    <tr>\n",
       "      <th>0</th>\n",
       "      <td>1</td>\n",
       "      <td>51737.06</td>\n",
       "      <td>33</td>\n",
       "      <td>0.5</td>\n",
       "      <td>4268</td>\n",
       "      <td>Copper</td>\n",
       "    </tr>\n",
       "    <tr>\n",
       "      <th>1</th>\n",
       "      <td>2</td>\n",
       "      <td>24176.29</td>\n",
       "      <td>28</td>\n",
       "      <td>0.8</td>\n",
       "      <td>2707</td>\n",
       "      <td>Copper</td>\n",
       "    </tr>\n",
       "    <tr>\n",
       "      <th>2</th>\n",
       "      <td>3</td>\n",
       "      <td>49172.86</td>\n",
       "      <td>29</td>\n",
       "      <td>0.7</td>\n",
       "      <td>4991</td>\n",
       "      <td>Copper</td>\n",
       "    </tr>\n",
       "    <tr>\n",
       "      <th>3</th>\n",
       "      <td>4</td>\n",
       "      <td>28690.83</td>\n",
       "      <td>22</td>\n",
       "      <td>0.5</td>\n",
       "      <td>1577</td>\n",
       "      <td>Copper</td>\n",
       "    </tr>\n",
       "    <tr>\n",
       "      <th>4</th>\n",
       "      <td>5</td>\n",
       "      <td>56424.57</td>\n",
       "      <td>92</td>\n",
       "      <td>0.7</td>\n",
       "      <td>18168</td>\n",
       "      <td>Copper</td>\n",
       "    </tr>\n",
       "  </tbody>\n",
       "</table>\n",
       "</div>"
      ],
      "text/plain": [
       "   customer_id  TotalPrice  Total_visits  Total_Profit  \\\n",
       "0            1    51737.06            33           0.5   \n",
       "1            2    24176.29            28           0.8   \n",
       "2            3    49172.86            29           0.7   \n",
       "3            4    28690.83            22           0.5   \n",
       "4            5    56424.57            92           0.7   \n",
       "\n",
       "   Customer_Lifetime_value CLV_Category  \n",
       "0                     4268       Copper  \n",
       "1                     2707       Copper  \n",
       "2                     4991       Copper  \n",
       "3                     1577       Copper  \n",
       "4                    18168       Copper  "
      ]
     },
     "execution_count": 48,
     "metadata": {},
     "output_type": "execute_result"
    }
   ],
   "source": [
    "ctd_merge.head()"
   ]
  },
  {
   "cell_type": "code",
   "execution_count": 50,
   "metadata": {},
   "outputs": [],
   "source": [
    "ctd_merge.to_csv('LTV.csv')"
   ]
  }
 ],
 "metadata": {
  "kernelspec": {
   "display_name": "Python 3",
   "language": "python",
   "name": "python3"
  },
  "language_info": {
   "codemirror_mode": {
    "name": "ipython",
    "version": 3
   },
   "file_extension": ".py",
   "mimetype": "text/x-python",
   "name": "python",
   "nbconvert_exporter": "python",
   "pygments_lexer": "ipython3",
   "version": "3.6.0"
  }
 },
 "nbformat": 4,
 "nbformat_minor": 2
}
