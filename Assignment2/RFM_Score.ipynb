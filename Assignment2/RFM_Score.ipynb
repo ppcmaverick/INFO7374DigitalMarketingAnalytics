{
 "cells": [
  {
   "cell_type": "markdown",
   "metadata": {},
   "source": [
    "Import necessary libraries"
   ]
  },
  {
   "cell_type": "code",
   "execution_count": 57,
   "metadata": {},
   "outputs": [],
   "source": [
    "import pandas as pd\n",
    "import numpy as np\n",
    "import matplotlib.pyplot as plt"
   ]
  },
  {
   "cell_type": "code",
   "execution_count": 58,
   "metadata": {},
   "outputs": [],
   "source": [
    "ctd = pd.read_csv('D:\\Downloads\\predicting-coupon-redemption\\customer_transaction_data.csv')"
   ]
  },
  {
   "cell_type": "code",
   "execution_count": 59,
   "metadata": {},
   "outputs": [
    {
     "name": "stdout",
     "output_type": "stream",
     "text": [
      "(1324566, 7)\n",
      "         date  customer_id  item_id  quantity  selling_price  other_discount  \\\n",
      "0  2012-01-02         1501    26830         1          35.26          -10.69   \n",
      "1  2012-01-02         1501    54253         1          53.43          -13.89   \n",
      "2  2012-01-02         1501    31962         1         106.50          -14.25   \n",
      "3  2012-01-02         1501    33647         1          67.32            0.00   \n",
      "4  2012-01-02         1501    48199         1          71.24          -28.14   \n",
      "\n",
      "   coupon_discount  \n",
      "0              0.0  \n",
      "1              0.0  \n",
      "2              0.0  \n",
      "3              0.0  \n",
      "4              0.0  \n"
     ]
    }
   ],
   "source": [
    "\n",
    "print(ctd.shape)\n",
    "print(ctd.head())"
   ]
  },
  {
   "cell_type": "code",
   "execution_count": 60,
   "metadata": {},
   "outputs": [
    {
     "name": "stdout",
     "output_type": "stream",
     "text": [
      "<class 'pandas.core.frame.DataFrame'>\n",
      "RangeIndex: 1324566 entries, 0 to 1324565\n",
      "Data columns (total 7 columns):\n",
      "date               1324566 non-null object\n",
      "customer_id        1324566 non-null int64\n",
      "item_id            1324566 non-null int64\n",
      "quantity           1324566 non-null int64\n",
      "selling_price      1324566 non-null float64\n",
      "other_discount     1324566 non-null float64\n",
      "coupon_discount    1324566 non-null float64\n",
      "dtypes: float64(3), int64(3), object(1)\n",
      "memory usage: 70.7+ MB\n"
     ]
    }
   ],
   "source": [
    "ctd.info()"
   ]
  },
  {
   "cell_type": "markdown",
   "metadata": {},
   "source": [
    "Checking for any null values"
   ]
  },
  {
   "cell_type": "code",
   "execution_count": 61,
   "metadata": {},
   "outputs": [
    {
     "data": {
      "text/plain": [
       "date               0\n",
       "customer_id        0\n",
       "item_id            0\n",
       "quantity           0\n",
       "selling_price      0\n",
       "other_discount     0\n",
       "coupon_discount    0\n",
       "dtype: int64"
      ]
     },
     "execution_count": 61,
     "metadata": {},
     "output_type": "execute_result"
    }
   ],
   "source": [
    "ctd.isnull().sum()"
   ]
  },
  {
   "cell_type": "code",
   "execution_count": 62,
   "metadata": {},
   "outputs": [],
   "source": [
    "ctd = ctd.drop_duplicates()"
   ]
  },
  {
   "cell_type": "code",
   "execution_count": 63,
   "metadata": {},
   "outputs": [
    {
     "data": {
      "text/plain": [
       "(1321650, 7)"
      ]
     },
     "execution_count": 63,
     "metadata": {},
     "output_type": "execute_result"
    }
   ],
   "source": [
    "ctd.shape"
   ]
  },
  {
   "cell_type": "code",
   "execution_count": 64,
   "metadata": {},
   "outputs": [],
   "source": [
    "ctd['TotalPrice'] = (ctd['selling_price']) - (ctd['other_discount'] + ctd['coupon_discount'])"
   ]
  },
  {
   "cell_type": "code",
   "execution_count": 65,
   "metadata": {},
   "outputs": [
    {
     "data": {
      "text/html": [
       "<div>\n",
       "<style scoped>\n",
       "    .dataframe tbody tr th:only-of-type {\n",
       "        vertical-align: middle;\n",
       "    }\n",
       "\n",
       "    .dataframe tbody tr th {\n",
       "        vertical-align: top;\n",
       "    }\n",
       "\n",
       "    .dataframe thead th {\n",
       "        text-align: right;\n",
       "    }\n",
       "</style>\n",
       "<table border=\"1\" class=\"dataframe\">\n",
       "  <thead>\n",
       "    <tr style=\"text-align: right;\">\n",
       "      <th></th>\n",
       "      <th>date</th>\n",
       "      <th>customer_id</th>\n",
       "      <th>item_id</th>\n",
       "      <th>quantity</th>\n",
       "      <th>selling_price</th>\n",
       "      <th>other_discount</th>\n",
       "      <th>coupon_discount</th>\n",
       "      <th>TotalPrice</th>\n",
       "    </tr>\n",
       "  </thead>\n",
       "  <tbody>\n",
       "    <tr>\n",
       "      <th>0</th>\n",
       "      <td>2012-01-02</td>\n",
       "      <td>1501</td>\n",
       "      <td>26830</td>\n",
       "      <td>1</td>\n",
       "      <td>35.26</td>\n",
       "      <td>-10.69</td>\n",
       "      <td>0.0</td>\n",
       "      <td>45.95</td>\n",
       "    </tr>\n",
       "    <tr>\n",
       "      <th>1</th>\n",
       "      <td>2012-01-02</td>\n",
       "      <td>1501</td>\n",
       "      <td>54253</td>\n",
       "      <td>1</td>\n",
       "      <td>53.43</td>\n",
       "      <td>-13.89</td>\n",
       "      <td>0.0</td>\n",
       "      <td>67.32</td>\n",
       "    </tr>\n",
       "    <tr>\n",
       "      <th>2</th>\n",
       "      <td>2012-01-02</td>\n",
       "      <td>1501</td>\n",
       "      <td>31962</td>\n",
       "      <td>1</td>\n",
       "      <td>106.50</td>\n",
       "      <td>-14.25</td>\n",
       "      <td>0.0</td>\n",
       "      <td>120.75</td>\n",
       "    </tr>\n",
       "    <tr>\n",
       "      <th>3</th>\n",
       "      <td>2012-01-02</td>\n",
       "      <td>1501</td>\n",
       "      <td>33647</td>\n",
       "      <td>1</td>\n",
       "      <td>67.32</td>\n",
       "      <td>0.00</td>\n",
       "      <td>0.0</td>\n",
       "      <td>67.32</td>\n",
       "    </tr>\n",
       "    <tr>\n",
       "      <th>4</th>\n",
       "      <td>2012-01-02</td>\n",
       "      <td>1501</td>\n",
       "      <td>48199</td>\n",
       "      <td>1</td>\n",
       "      <td>71.24</td>\n",
       "      <td>-28.14</td>\n",
       "      <td>0.0</td>\n",
       "      <td>99.38</td>\n",
       "    </tr>\n",
       "  </tbody>\n",
       "</table>\n",
       "</div>"
      ],
      "text/plain": [
       "         date  customer_id  item_id  quantity  selling_price  other_discount  \\\n",
       "0  2012-01-02         1501    26830         1          35.26          -10.69   \n",
       "1  2012-01-02         1501    54253         1          53.43          -13.89   \n",
       "2  2012-01-02         1501    31962         1         106.50          -14.25   \n",
       "3  2012-01-02         1501    33647         1          67.32            0.00   \n",
       "4  2012-01-02         1501    48199         1          71.24          -28.14   \n",
       "\n",
       "   coupon_discount  TotalPrice  \n",
       "0              0.0       45.95  \n",
       "1              0.0       67.32  \n",
       "2              0.0      120.75  \n",
       "3              0.0       67.32  \n",
       "4              0.0       99.38  "
      ]
     },
     "execution_count": 65,
     "metadata": {},
     "output_type": "execute_result"
    }
   ],
   "source": [
    "ctd.head()\n"
   ]
  },
  {
   "cell_type": "code",
   "execution_count": 66,
   "metadata": {},
   "outputs": [],
   "source": [
    "ctd_merge = ctd.groupby(['customer_id','date']).agg({'TotalPrice': 'sum','selling_price':'sum','other_discount':'sum'\n",
    "                                                    ,'coupon_discount':'sum'})"
   ]
  },
  {
   "cell_type": "code",
   "execution_count": 67,
   "metadata": {},
   "outputs": [
    {
     "data": {
      "text/html": [
       "<div>\n",
       "<style scoped>\n",
       "    .dataframe tbody tr th:only-of-type {\n",
       "        vertical-align: middle;\n",
       "    }\n",
       "\n",
       "    .dataframe tbody tr th {\n",
       "        vertical-align: top;\n",
       "    }\n",
       "\n",
       "    .dataframe thead th {\n",
       "        text-align: right;\n",
       "    }\n",
       "</style>\n",
       "<table border=\"1\" class=\"dataframe\">\n",
       "  <thead>\n",
       "    <tr style=\"text-align: right;\">\n",
       "      <th></th>\n",
       "      <th></th>\n",
       "      <th>TotalPrice</th>\n",
       "      <th>selling_price</th>\n",
       "      <th>other_discount</th>\n",
       "      <th>coupon_discount</th>\n",
       "    </tr>\n",
       "    <tr>\n",
       "      <th>customer_id</th>\n",
       "      <th>date</th>\n",
       "      <th></th>\n",
       "      <th></th>\n",
       "      <th></th>\n",
       "      <th></th>\n",
       "    </tr>\n",
       "  </thead>\n",
       "  <tbody>\n",
       "    <tr>\n",
       "      <th rowspan=\"5\" valign=\"top\">1</th>\n",
       "      <th>2012-02-21</th>\n",
       "      <td>3176.91</td>\n",
       "      <td>2603.45</td>\n",
       "      <td>-537.84</td>\n",
       "      <td>-35.62</td>\n",
       "    </tr>\n",
       "    <tr>\n",
       "      <th>2012-03-08</th>\n",
       "      <td>1737.18</td>\n",
       "      <td>1431.20</td>\n",
       "      <td>-305.98</td>\n",
       "      <td>0.00</td>\n",
       "    </tr>\n",
       "    <tr>\n",
       "      <th>2012-03-29</th>\n",
       "      <td>871.61</td>\n",
       "      <td>691.73</td>\n",
       "      <td>-179.88</td>\n",
       "      <td>0.00</td>\n",
       "    </tr>\n",
       "    <tr>\n",
       "      <th>2012-04-04</th>\n",
       "      <td>2262.58</td>\n",
       "      <td>1913.50</td>\n",
       "      <td>-331.27</td>\n",
       "      <td>-17.81</td>\n",
       "    </tr>\n",
       "    <tr>\n",
       "      <th>2012-04-11</th>\n",
       "      <td>2248.69</td>\n",
       "      <td>1702.28</td>\n",
       "      <td>-546.41</td>\n",
       "      <td>0.00</td>\n",
       "    </tr>\n",
       "  </tbody>\n",
       "</table>\n",
       "</div>"
      ],
      "text/plain": [
       "                        TotalPrice  selling_price  other_discount  \\\n",
       "customer_id date                                                    \n",
       "1           2012-02-21     3176.91        2603.45         -537.84   \n",
       "            2012-03-08     1737.18        1431.20         -305.98   \n",
       "            2012-03-29      871.61         691.73         -179.88   \n",
       "            2012-04-04     2262.58        1913.50         -331.27   \n",
       "            2012-04-11     2248.69        1702.28         -546.41   \n",
       "\n",
       "                        coupon_discount  \n",
       "customer_id date                         \n",
       "1           2012-02-21           -35.62  \n",
       "            2012-03-08             0.00  \n",
       "            2012-03-29             0.00  \n",
       "            2012-04-04           -17.81  \n",
       "            2012-04-11             0.00  "
      ]
     },
     "execution_count": 67,
     "metadata": {},
     "output_type": "execute_result"
    }
   ],
   "source": [
    "ctd_merge.head()"
   ]
  },
  {
   "cell_type": "code",
   "execution_count": 68,
   "metadata": {},
   "outputs": [],
   "source": [
    "ctd_merge=ctd_merge.reset_index()"
   ]
  },
  {
   "cell_type": "code",
   "execution_count": 69,
   "metadata": {},
   "outputs": [
    {
     "data": {
      "text/html": [
       "<div>\n",
       "<style scoped>\n",
       "    .dataframe tbody tr th:only-of-type {\n",
       "        vertical-align: middle;\n",
       "    }\n",
       "\n",
       "    .dataframe tbody tr th {\n",
       "        vertical-align: top;\n",
       "    }\n",
       "\n",
       "    .dataframe thead th {\n",
       "        text-align: right;\n",
       "    }\n",
       "</style>\n",
       "<table border=\"1\" class=\"dataframe\">\n",
       "  <thead>\n",
       "    <tr style=\"text-align: right;\">\n",
       "      <th></th>\n",
       "      <th>customer_id</th>\n",
       "      <th>date</th>\n",
       "      <th>TotalPrice</th>\n",
       "      <th>selling_price</th>\n",
       "      <th>other_discount</th>\n",
       "      <th>coupon_discount</th>\n",
       "    </tr>\n",
       "  </thead>\n",
       "  <tbody>\n",
       "    <tr>\n",
       "      <th>0</th>\n",
       "      <td>1</td>\n",
       "      <td>2012-02-21</td>\n",
       "      <td>3176.91</td>\n",
       "      <td>2603.45</td>\n",
       "      <td>-537.84</td>\n",
       "      <td>-35.62</td>\n",
       "    </tr>\n",
       "    <tr>\n",
       "      <th>1</th>\n",
       "      <td>1</td>\n",
       "      <td>2012-03-08</td>\n",
       "      <td>1737.18</td>\n",
       "      <td>1431.20</td>\n",
       "      <td>-305.98</td>\n",
       "      <td>0.00</td>\n",
       "    </tr>\n",
       "    <tr>\n",
       "      <th>2</th>\n",
       "      <td>1</td>\n",
       "      <td>2012-03-29</td>\n",
       "      <td>871.61</td>\n",
       "      <td>691.73</td>\n",
       "      <td>-179.88</td>\n",
       "      <td>0.00</td>\n",
       "    </tr>\n",
       "    <tr>\n",
       "      <th>3</th>\n",
       "      <td>1</td>\n",
       "      <td>2012-04-04</td>\n",
       "      <td>2262.58</td>\n",
       "      <td>1913.50</td>\n",
       "      <td>-331.27</td>\n",
       "      <td>-17.81</td>\n",
       "    </tr>\n",
       "    <tr>\n",
       "      <th>4</th>\n",
       "      <td>1</td>\n",
       "      <td>2012-04-11</td>\n",
       "      <td>2248.69</td>\n",
       "      <td>1702.28</td>\n",
       "      <td>-546.41</td>\n",
       "      <td>0.00</td>\n",
       "    </tr>\n",
       "  </tbody>\n",
       "</table>\n",
       "</div>"
      ],
      "text/plain": [
       "   customer_id        date  TotalPrice  selling_price  other_discount  \\\n",
       "0            1  2012-02-21     3176.91        2603.45         -537.84   \n",
       "1            1  2012-03-08     1737.18        1431.20         -305.98   \n",
       "2            1  2012-03-29      871.61         691.73         -179.88   \n",
       "3            1  2012-04-04     2262.58        1913.50         -331.27   \n",
       "4            1  2012-04-11     2248.69        1702.28         -546.41   \n",
       "\n",
       "   coupon_discount  \n",
       "0           -35.62  \n",
       "1             0.00  \n",
       "2             0.00  \n",
       "3           -17.81  \n",
       "4             0.00  "
      ]
     },
     "execution_count": 69,
     "metadata": {},
     "output_type": "execute_result"
    }
   ],
   "source": [
    "ctd_merge.head()"
   ]
  },
  {
   "cell_type": "code",
   "execution_count": 70,
   "metadata": {},
   "outputs": [],
   "source": [
    "ctd_merge['InvoiceNo']= ctd_merge['date'].map(str) + ctd_merge['customer_id'].map(str) "
   ]
  },
  {
   "cell_type": "code",
   "execution_count": 71,
   "metadata": {},
   "outputs": [
    {
     "data": {
      "text/html": [
       "<div>\n",
       "<style scoped>\n",
       "    .dataframe tbody tr th:only-of-type {\n",
       "        vertical-align: middle;\n",
       "    }\n",
       "\n",
       "    .dataframe tbody tr th {\n",
       "        vertical-align: top;\n",
       "    }\n",
       "\n",
       "    .dataframe thead th {\n",
       "        text-align: right;\n",
       "    }\n",
       "</style>\n",
       "<table border=\"1\" class=\"dataframe\">\n",
       "  <thead>\n",
       "    <tr style=\"text-align: right;\">\n",
       "      <th></th>\n",
       "      <th>customer_id</th>\n",
       "      <th>date</th>\n",
       "      <th>TotalPrice</th>\n",
       "      <th>selling_price</th>\n",
       "      <th>other_discount</th>\n",
       "      <th>coupon_discount</th>\n",
       "      <th>InvoiceNo</th>\n",
       "    </tr>\n",
       "  </thead>\n",
       "  <tbody>\n",
       "    <tr>\n",
       "      <th>0</th>\n",
       "      <td>1</td>\n",
       "      <td>2012-02-21</td>\n",
       "      <td>3176.91</td>\n",
       "      <td>2603.45</td>\n",
       "      <td>-537.84</td>\n",
       "      <td>-35.62</td>\n",
       "      <td>2012-02-211</td>\n",
       "    </tr>\n",
       "    <tr>\n",
       "      <th>1</th>\n",
       "      <td>1</td>\n",
       "      <td>2012-03-08</td>\n",
       "      <td>1737.18</td>\n",
       "      <td>1431.20</td>\n",
       "      <td>-305.98</td>\n",
       "      <td>0.00</td>\n",
       "      <td>2012-03-081</td>\n",
       "    </tr>\n",
       "    <tr>\n",
       "      <th>2</th>\n",
       "      <td>1</td>\n",
       "      <td>2012-03-29</td>\n",
       "      <td>871.61</td>\n",
       "      <td>691.73</td>\n",
       "      <td>-179.88</td>\n",
       "      <td>0.00</td>\n",
       "      <td>2012-03-291</td>\n",
       "    </tr>\n",
       "    <tr>\n",
       "      <th>3</th>\n",
       "      <td>1</td>\n",
       "      <td>2012-04-04</td>\n",
       "      <td>2262.58</td>\n",
       "      <td>1913.50</td>\n",
       "      <td>-331.27</td>\n",
       "      <td>-17.81</td>\n",
       "      <td>2012-04-041</td>\n",
       "    </tr>\n",
       "    <tr>\n",
       "      <th>4</th>\n",
       "      <td>1</td>\n",
       "      <td>2012-04-11</td>\n",
       "      <td>2248.69</td>\n",
       "      <td>1702.28</td>\n",
       "      <td>-546.41</td>\n",
       "      <td>0.00</td>\n",
       "      <td>2012-04-111</td>\n",
       "    </tr>\n",
       "  </tbody>\n",
       "</table>\n",
       "</div>"
      ],
      "text/plain": [
       "   customer_id        date  TotalPrice  selling_price  other_discount  \\\n",
       "0            1  2012-02-21     3176.91        2603.45         -537.84   \n",
       "1            1  2012-03-08     1737.18        1431.20         -305.98   \n",
       "2            1  2012-03-29      871.61         691.73         -179.88   \n",
       "3            1  2012-04-04     2262.58        1913.50         -331.27   \n",
       "4            1  2012-04-11     2248.69        1702.28         -546.41   \n",
       "\n",
       "   coupon_discount    InvoiceNo  \n",
       "0           -35.62  2012-02-211  \n",
       "1             0.00  2012-03-081  \n",
       "2             0.00  2012-03-291  \n",
       "3           -17.81  2012-04-041  \n",
       "4             0.00  2012-04-111  "
      ]
     },
     "execution_count": 71,
     "metadata": {},
     "output_type": "execute_result"
    }
   ],
   "source": [
    "ctd_merge.head()"
   ]
  },
  {
   "cell_type": "code",
   "execution_count": 72,
   "metadata": {},
   "outputs": [],
   "source": [
    "ctd_merge.to_csv('Customer_transactions_agg')"
   ]
  },
  {
   "cell_type": "code",
   "execution_count": 73,
   "metadata": {},
   "outputs": [
    {
     "name": "stdout",
     "output_type": "stream",
     "text": [
      "Min:2012-01-02; Max:2013-07-03\n"
     ]
    }
   ],
   "source": [
    "print('Min:{}; Max:{}'.format(ctd_merge[\"date\"].min(), ctd_merge[\"date\"].max()))"
   ]
  },
  {
   "cell_type": "code",
   "execution_count": 74,
   "metadata": {},
   "outputs": [],
   "source": [
    "ctd_merge = ctd_merge[ (ctd_merge['date']>'2012-01-02') & (ctd_merge['date'] < '2013-01-03')]"
   ]
  },
  {
   "cell_type": "code",
   "execution_count": 75,
   "metadata": {},
   "outputs": [
    {
     "data": {
      "text/html": [
       "<div>\n",
       "<style scoped>\n",
       "    .dataframe tbody tr th:only-of-type {\n",
       "        vertical-align: middle;\n",
       "    }\n",
       "\n",
       "    .dataframe tbody tr th {\n",
       "        vertical-align: top;\n",
       "    }\n",
       "\n",
       "    .dataframe thead th {\n",
       "        text-align: right;\n",
       "    }\n",
       "</style>\n",
       "<table border=\"1\" class=\"dataframe\">\n",
       "  <thead>\n",
       "    <tr style=\"text-align: right;\">\n",
       "      <th></th>\n",
       "      <th>customer_id</th>\n",
       "      <th>date</th>\n",
       "      <th>TotalPrice</th>\n",
       "      <th>selling_price</th>\n",
       "      <th>other_discount</th>\n",
       "      <th>coupon_discount</th>\n",
       "      <th>InvoiceNo</th>\n",
       "    </tr>\n",
       "  </thead>\n",
       "  <tbody>\n",
       "    <tr>\n",
       "      <th>0</th>\n",
       "      <td>1</td>\n",
       "      <td>2012-02-21</td>\n",
       "      <td>3176.91</td>\n",
       "      <td>2603.45</td>\n",
       "      <td>-537.84</td>\n",
       "      <td>-35.62</td>\n",
       "      <td>2012-02-211</td>\n",
       "    </tr>\n",
       "    <tr>\n",
       "      <th>1</th>\n",
       "      <td>1</td>\n",
       "      <td>2012-03-08</td>\n",
       "      <td>1737.18</td>\n",
       "      <td>1431.20</td>\n",
       "      <td>-305.98</td>\n",
       "      <td>0.00</td>\n",
       "      <td>2012-03-081</td>\n",
       "    </tr>\n",
       "    <tr>\n",
       "      <th>2</th>\n",
       "      <td>1</td>\n",
       "      <td>2012-03-29</td>\n",
       "      <td>871.61</td>\n",
       "      <td>691.73</td>\n",
       "      <td>-179.88</td>\n",
       "      <td>0.00</td>\n",
       "      <td>2012-03-291</td>\n",
       "    </tr>\n",
       "    <tr>\n",
       "      <th>3</th>\n",
       "      <td>1</td>\n",
       "      <td>2012-04-04</td>\n",
       "      <td>2262.58</td>\n",
       "      <td>1913.50</td>\n",
       "      <td>-331.27</td>\n",
       "      <td>-17.81</td>\n",
       "      <td>2012-04-041</td>\n",
       "    </tr>\n",
       "    <tr>\n",
       "      <th>4</th>\n",
       "      <td>1</td>\n",
       "      <td>2012-04-11</td>\n",
       "      <td>2248.69</td>\n",
       "      <td>1702.28</td>\n",
       "      <td>-546.41</td>\n",
       "      <td>0.00</td>\n",
       "      <td>2012-04-111</td>\n",
       "    </tr>\n",
       "  </tbody>\n",
       "</table>\n",
       "</div>"
      ],
      "text/plain": [
       "   customer_id        date  TotalPrice  selling_price  other_discount  \\\n",
       "0            1  2012-02-21     3176.91        2603.45         -537.84   \n",
       "1            1  2012-03-08     1737.18        1431.20         -305.98   \n",
       "2            1  2012-03-29      871.61         691.73         -179.88   \n",
       "3            1  2012-04-04     2262.58        1913.50         -331.27   \n",
       "4            1  2012-04-11     2248.69        1702.28         -546.41   \n",
       "\n",
       "   coupon_discount    InvoiceNo  \n",
       "0           -35.62  2012-02-211  \n",
       "1             0.00  2012-03-081  \n",
       "2             0.00  2012-03-291  \n",
       "3           -17.81  2012-04-041  \n",
       "4             0.00  2012-04-111  "
      ]
     },
     "execution_count": 75,
     "metadata": {},
     "output_type": "execute_result"
    }
   ],
   "source": [
    "ctd_merge.head()"
   ]
  },
  {
   "cell_type": "code",
   "execution_count": 76,
   "metadata": {},
   "outputs": [
    {
     "name": "stdout",
     "output_type": "stream",
     "text": [
      "object\n",
      "datetime64[ns]\n"
     ]
    }
   ],
   "source": [
    "import datetime as dt\n",
    "current_date = dt.datetime(2013,1,2)\n",
    "current_date\n",
    "print(ctd_merge.date.dtype)\n",
    "ctd_merge['date'] = pd.to_datetime(ctd_merge['date'])\n",
    "print(ctd_merge.date.dtype)"
   ]
  },
  {
   "cell_type": "code",
   "execution_count": 77,
   "metadata": {},
   "outputs": [],
   "source": [
    "ctd_merge = ctd_merge.groupby(['customer_id']).agg({ 'date': lambda x: (current_date - x.max()).days, 'InvoiceNo': 'count',\n",
    "'TotalPrice': 'sum'})"
   ]
  },
  {
   "cell_type": "code",
   "execution_count": 78,
   "metadata": {},
   "outputs": [
    {
     "data": {
      "text/html": [
       "<div>\n",
       "<style scoped>\n",
       "    .dataframe tbody tr th:only-of-type {\n",
       "        vertical-align: middle;\n",
       "    }\n",
       "\n",
       "    .dataframe tbody tr th {\n",
       "        vertical-align: top;\n",
       "    }\n",
       "\n",
       "    .dataframe thead th {\n",
       "        text-align: right;\n",
       "    }\n",
       "</style>\n",
       "<table border=\"1\" class=\"dataframe\">\n",
       "  <thead>\n",
       "    <tr style=\"text-align: right;\">\n",
       "      <th></th>\n",
       "      <th>date</th>\n",
       "      <th>InvoiceNo</th>\n",
       "      <th>TotalPrice</th>\n",
       "    </tr>\n",
       "    <tr>\n",
       "      <th>customer_id</th>\n",
       "      <th></th>\n",
       "      <th></th>\n",
       "      <th></th>\n",
       "    </tr>\n",
       "  </thead>\n",
       "  <tbody>\n",
       "    <tr>\n",
       "      <th>1</th>\n",
       "      <td>6</td>\n",
       "      <td>33</td>\n",
       "      <td>75022.24</td>\n",
       "    </tr>\n",
       "    <tr>\n",
       "      <th>2</th>\n",
       "      <td>22</td>\n",
       "      <td>28</td>\n",
       "      <td>34551.57</td>\n",
       "    </tr>\n",
       "    <tr>\n",
       "      <th>3</th>\n",
       "      <td>1</td>\n",
       "      <td>29</td>\n",
       "      <td>76057.24</td>\n",
       "    </tr>\n",
       "    <tr>\n",
       "      <th>4</th>\n",
       "      <td>9</td>\n",
       "      <td>22</td>\n",
       "      <td>34199.71</td>\n",
       "    </tr>\n",
       "    <tr>\n",
       "      <th>5</th>\n",
       "      <td>1</td>\n",
       "      <td>92</td>\n",
       "      <td>70552.77</td>\n",
       "    </tr>\n",
       "  </tbody>\n",
       "</table>\n",
       "</div>"
      ],
      "text/plain": [
       "             date  InvoiceNo  TotalPrice\n",
       "customer_id                             \n",
       "1               6         33    75022.24\n",
       "2              22         28    34551.57\n",
       "3               1         29    76057.24\n",
       "4               9         22    34199.71\n",
       "5               1         92    70552.77"
      ]
     },
     "execution_count": 78,
     "metadata": {},
     "output_type": "execute_result"
    }
   ],
   "source": [
    "ctd_merge.head()"
   ]
  },
  {
   "cell_type": "code",
   "execution_count": 79,
   "metadata": {},
   "outputs": [
    {
     "data": {
      "text/html": [
       "<div>\n",
       "<style scoped>\n",
       "    .dataframe tbody tr th:only-of-type {\n",
       "        vertical-align: middle;\n",
       "    }\n",
       "\n",
       "    .dataframe tbody tr th {\n",
       "        vertical-align: top;\n",
       "    }\n",
       "\n",
       "    .dataframe thead th {\n",
       "        text-align: right;\n",
       "    }\n",
       "</style>\n",
       "<table border=\"1\" class=\"dataframe\">\n",
       "  <thead>\n",
       "    <tr style=\"text-align: right;\">\n",
       "      <th></th>\n",
       "      <th>date</th>\n",
       "      <th>InvoiceNo</th>\n",
       "      <th>TotalPrice</th>\n",
       "    </tr>\n",
       "    <tr>\n",
       "      <th>customer_id</th>\n",
       "      <th></th>\n",
       "      <th></th>\n",
       "      <th></th>\n",
       "    </tr>\n",
       "  </thead>\n",
       "  <tbody>\n",
       "    <tr>\n",
       "      <th>1578</th>\n",
       "      <td>5</td>\n",
       "      <td>19</td>\n",
       "      <td>50913.34</td>\n",
       "    </tr>\n",
       "    <tr>\n",
       "      <th>1579</th>\n",
       "      <td>2</td>\n",
       "      <td>92</td>\n",
       "      <td>104205.49</td>\n",
       "    </tr>\n",
       "    <tr>\n",
       "      <th>1580</th>\n",
       "      <td>1</td>\n",
       "      <td>56</td>\n",
       "      <td>31368.86</td>\n",
       "    </tr>\n",
       "    <tr>\n",
       "      <th>1581</th>\n",
       "      <td>12</td>\n",
       "      <td>36</td>\n",
       "      <td>33769.82</td>\n",
       "    </tr>\n",
       "    <tr>\n",
       "      <th>1582</th>\n",
       "      <td>0</td>\n",
       "      <td>31</td>\n",
       "      <td>67666.99</td>\n",
       "    </tr>\n",
       "  </tbody>\n",
       "</table>\n",
       "</div>"
      ],
      "text/plain": [
       "             date  InvoiceNo  TotalPrice\n",
       "customer_id                             \n",
       "1578            5         19    50913.34\n",
       "1579            2         92   104205.49\n",
       "1580            1         56    31368.86\n",
       "1581           12         36    33769.82\n",
       "1582            0         31    67666.99"
      ]
     },
     "execution_count": 79,
     "metadata": {},
     "output_type": "execute_result"
    }
   ],
   "source": [
    "ctd_merge.tail()"
   ]
  },
  {
   "cell_type": "code",
   "execution_count": 80,
   "metadata": {},
   "outputs": [],
   "source": [
    "ctd_merge.rename(columns = {'date': 'Recency', 'InvoiceNo': 'Frequency','TotalPrice': 'Monetary'}, inplace=True)"
   ]
  },
  {
   "cell_type": "code",
   "execution_count": 81,
   "metadata": {},
   "outputs": [],
   "source": [
    "ctd_merge=ctd_merge.reset_index()"
   ]
  },
  {
   "cell_type": "code",
   "execution_count": 82,
   "metadata": {},
   "outputs": [
    {
     "data": {
      "text/html": [
       "<div>\n",
       "<style scoped>\n",
       "    .dataframe tbody tr th:only-of-type {\n",
       "        vertical-align: middle;\n",
       "    }\n",
       "\n",
       "    .dataframe tbody tr th {\n",
       "        vertical-align: top;\n",
       "    }\n",
       "\n",
       "    .dataframe thead th {\n",
       "        text-align: right;\n",
       "    }\n",
       "</style>\n",
       "<table border=\"1\" class=\"dataframe\">\n",
       "  <thead>\n",
       "    <tr style=\"text-align: right;\">\n",
       "      <th></th>\n",
       "      <th>customer_id</th>\n",
       "      <th>Recency</th>\n",
       "      <th>Frequency</th>\n",
       "      <th>Monetary</th>\n",
       "    </tr>\n",
       "  </thead>\n",
       "  <tbody>\n",
       "    <tr>\n",
       "      <th>0</th>\n",
       "      <td>1</td>\n",
       "      <td>6</td>\n",
       "      <td>33</td>\n",
       "      <td>75022.24</td>\n",
       "    </tr>\n",
       "    <tr>\n",
       "      <th>1</th>\n",
       "      <td>2</td>\n",
       "      <td>22</td>\n",
       "      <td>28</td>\n",
       "      <td>34551.57</td>\n",
       "    </tr>\n",
       "    <tr>\n",
       "      <th>2</th>\n",
       "      <td>3</td>\n",
       "      <td>1</td>\n",
       "      <td>29</td>\n",
       "      <td>76057.24</td>\n",
       "    </tr>\n",
       "    <tr>\n",
       "      <th>3</th>\n",
       "      <td>4</td>\n",
       "      <td>9</td>\n",
       "      <td>22</td>\n",
       "      <td>34199.71</td>\n",
       "    </tr>\n",
       "    <tr>\n",
       "      <th>4</th>\n",
       "      <td>5</td>\n",
       "      <td>1</td>\n",
       "      <td>92</td>\n",
       "      <td>70552.77</td>\n",
       "    </tr>\n",
       "  </tbody>\n",
       "</table>\n",
       "</div>"
      ],
      "text/plain": [
       "   customer_id  Recency  Frequency  Monetary\n",
       "0            1        6         33  75022.24\n",
       "1            2       22         28  34551.57\n",
       "2            3        1         29  76057.24\n",
       "3            4        9         22  34199.71\n",
       "4            5        1         92  70552.77"
      ]
     },
     "execution_count": 82,
     "metadata": {},
     "output_type": "execute_result"
    }
   ],
   "source": [
    "ctd_merge.head()"
   ]
  },
  {
   "cell_type": "code",
   "execution_count": 83,
   "metadata": {},
   "outputs": [],
   "source": [
    "ctd_merge['Rank_recency_dense'] = ctd_merge.Recency.rank(method='dense').astype(int)\n",
    "ctd_merge['Rank_freq_dense']= ctd_merge.Frequency.rank(method= 'dense',ascending=False ).astype(int)\n",
    "ctd_merge['Rank_monetary_dense']=ctd_merge.Monetary.rank(method='dense',ascending=False).astype(int)"
   ]
  },
  {
   "cell_type": "code",
   "execution_count": 84,
   "metadata": {},
   "outputs": [
    {
     "data": {
      "text/html": [
       "<div>\n",
       "<style scoped>\n",
       "    .dataframe tbody tr th:only-of-type {\n",
       "        vertical-align: middle;\n",
       "    }\n",
       "\n",
       "    .dataframe tbody tr th {\n",
       "        vertical-align: top;\n",
       "    }\n",
       "\n",
       "    .dataframe thead th {\n",
       "        text-align: right;\n",
       "    }\n",
       "</style>\n",
       "<table border=\"1\" class=\"dataframe\">\n",
       "  <thead>\n",
       "    <tr style=\"text-align: right;\">\n",
       "      <th></th>\n",
       "      <th>customer_id</th>\n",
       "      <th>Recency</th>\n",
       "      <th>Frequency</th>\n",
       "      <th>Monetary</th>\n",
       "      <th>Rank_recency_dense</th>\n",
       "      <th>Rank_freq_dense</th>\n",
       "      <th>Rank_monetary_dense</th>\n",
       "    </tr>\n",
       "  </thead>\n",
       "  <tbody>\n",
       "    <tr>\n",
       "      <th>0</th>\n",
       "      <td>1</td>\n",
       "      <td>6</td>\n",
       "      <td>33</td>\n",
       "      <td>75022.24</td>\n",
       "      <td>7</td>\n",
       "      <td>148</td>\n",
       "      <td>520</td>\n",
       "    </tr>\n",
       "    <tr>\n",
       "      <th>1</th>\n",
       "      <td>2</td>\n",
       "      <td>22</td>\n",
       "      <td>28</td>\n",
       "      <td>34551.57</td>\n",
       "      <td>23</td>\n",
       "      <td>153</td>\n",
       "      <td>1110</td>\n",
       "    </tr>\n",
       "    <tr>\n",
       "      <th>2</th>\n",
       "      <td>3</td>\n",
       "      <td>1</td>\n",
       "      <td>29</td>\n",
       "      <td>76057.24</td>\n",
       "      <td>2</td>\n",
       "      <td>152</td>\n",
       "      <td>512</td>\n",
       "    </tr>\n",
       "    <tr>\n",
       "      <th>3</th>\n",
       "      <td>4</td>\n",
       "      <td>9</td>\n",
       "      <td>22</td>\n",
       "      <td>34199.71</td>\n",
       "      <td>10</td>\n",
       "      <td>159</td>\n",
       "      <td>1121</td>\n",
       "    </tr>\n",
       "    <tr>\n",
       "      <th>4</th>\n",
       "      <td>5</td>\n",
       "      <td>1</td>\n",
       "      <td>92</td>\n",
       "      <td>70552.77</td>\n",
       "      <td>2</td>\n",
       "      <td>89</td>\n",
       "      <td>566</td>\n",
       "    </tr>\n",
       "  </tbody>\n",
       "</table>\n",
       "</div>"
      ],
      "text/plain": [
       "   customer_id  Recency  Frequency  Monetary  Rank_recency_dense  \\\n",
       "0            1        6         33  75022.24                   7   \n",
       "1            2       22         28  34551.57                  23   \n",
       "2            3        1         29  76057.24                   2   \n",
       "3            4        9         22  34199.71                  10   \n",
       "4            5        1         92  70552.77                   2   \n",
       "\n",
       "   Rank_freq_dense  Rank_monetary_dense  \n",
       "0              148                  520  \n",
       "1              153                 1110  \n",
       "2              152                  512  \n",
       "3              159                 1121  \n",
       "4               89                  566  "
      ]
     },
     "execution_count": 84,
     "metadata": {},
     "output_type": "execute_result"
    }
   ],
   "source": [
    "ctd_merge.head()"
   ]
  },
  {
   "cell_type": "code",
   "execution_count": 85,
   "metadata": {},
   "outputs": [
    {
     "data": {
      "text/plain": [
       "1     280\n",
       "2     185\n",
       "3     147\n",
       "5     146\n",
       "6     127\n",
       "4     112\n",
       "7      73\n",
       "8      49\n",
       "9      48\n",
       "13     38\n",
       "10     37\n",
       "11     35\n",
       "12     29\n",
       "14     28\n",
       "16     18\n",
       "15     16\n",
       "17     16\n",
       "19     12\n",
       "20     11\n",
       "21     11\n",
       "28     10\n",
       "25      8\n",
       "18      8\n",
       "24      7\n",
       "36      6\n",
       "23      6\n",
       "27      6\n",
       "45      6\n",
       "31      5\n",
       "26      5\n",
       "     ... \n",
       "82      1\n",
       "78      1\n",
       "81      1\n",
       "73      1\n",
       "74      1\n",
       "75      1\n",
       "86      1\n",
       "77      1\n",
       "76      1\n",
       "62      1\n",
       "68      1\n",
       "66      1\n",
       "60      1\n",
       "59      1\n",
       "58      1\n",
       "57      1\n",
       "54      1\n",
       "53      1\n",
       "52      1\n",
       "49      1\n",
       "48      1\n",
       "89      1\n",
       "44      1\n",
       "43      1\n",
       "42      1\n",
       "39      1\n",
       "38      1\n",
       "63      1\n",
       "61      1\n",
       "90      1\n",
       "Name: Rank_recency_dense, Length: 90, dtype: int64"
      ]
     },
     "execution_count": 85,
     "metadata": {},
     "output_type": "execute_result"
    }
   ],
   "source": [
    "ctd_merge['Rank_recency_dense'].value_counts()\n",
    "\n"
   ]
  },
  {
   "cell_type": "code",
   "execution_count": 86,
   "metadata": {},
   "outputs": [
    {
     "data": {
      "text/plain": [
       "145    34\n",
       "141    30\n",
       "146    29\n",
       "147    29\n",
       "135    28\n",
       "148    28\n",
       "143    27\n",
       "154    27\n",
       "139    26\n",
       "155    26\n",
       "126    26\n",
       "149    26\n",
       "132    26\n",
       "158    26\n",
       "129    25\n",
       "144    24\n",
       "161    24\n",
       "160    24\n",
       "142    23\n",
       "136    22\n",
       "151    22\n",
       "152    20\n",
       "153    20\n",
       "156    20\n",
       "133    20\n",
       "130    20\n",
       "134    20\n",
       "119    19\n",
       "140    19\n",
       "131    19\n",
       "       ..\n",
       "3       1\n",
       "11      1\n",
       "4       1\n",
       "5       1\n",
       "10      1\n",
       "9       1\n",
       "22      1\n",
       "179     1\n",
       "24      1\n",
       "25      1\n",
       "62      1\n",
       "59      1\n",
       "58      1\n",
       "57      1\n",
       "56      1\n",
       "51      1\n",
       "49      1\n",
       "47      1\n",
       "46      1\n",
       "43      1\n",
       "39      1\n",
       "37      1\n",
       "34      1\n",
       "31      1\n",
       "30      1\n",
       "29      1\n",
       "28      1\n",
       "27      1\n",
       "26      1\n",
       "1       1\n",
       "Name: Rank_freq_dense, Length: 179, dtype: int64"
      ]
     },
     "execution_count": 86,
     "metadata": {},
     "output_type": "execute_result"
    }
   ],
   "source": [
    "ctd_merge['Rank_freq_dense'].value_counts()"
   ]
  },
  {
   "cell_type": "code",
   "execution_count": 87,
   "metadata": {},
   "outputs": [
    {
     "data": {
      "text/plain": [
       "1581    1\n",
       "1038    1\n",
       "1042    1\n",
       "1044    1\n",
       "1046    1\n",
       "1048    1\n",
       "1050    1\n",
       "1052    1\n",
       "1054    1\n",
       "1056    1\n",
       "1058    1\n",
       "1060    1\n",
       "1062    1\n",
       "1064    1\n",
       "1066    1\n",
       "1068    1\n",
       "1070    1\n",
       "1072    1\n",
       "1074    1\n",
       "1076    1\n",
       "1078    1\n",
       "1080    1\n",
       "1082    1\n",
       "1040    1\n",
       "1036    1\n",
       "988     1\n",
       "1034    1\n",
       "992     1\n",
       "994     1\n",
       "996     1\n",
       "       ..\n",
       "579     1\n",
       "581     1\n",
       "583     1\n",
       "585     1\n",
       "587     1\n",
       "545     1\n",
       "543     1\n",
       "541     1\n",
       "517     1\n",
       "499     1\n",
       "501     1\n",
       "503     1\n",
       "505     1\n",
       "507     1\n",
       "509     1\n",
       "511     1\n",
       "513     1\n",
       "515     1\n",
       "519     1\n",
       "539     1\n",
       "521     1\n",
       "523     1\n",
       "525     1\n",
       "527     1\n",
       "529     1\n",
       "531     1\n",
       "533     1\n",
       "535     1\n",
       "537     1\n",
       "2       1\n",
       "Name: Rank_monetary_dense, Length: 1581, dtype: int64"
      ]
     },
     "execution_count": 87,
     "metadata": {},
     "output_type": "execute_result"
    }
   ],
   "source": [
    "ctd_merge['Rank_monetary_dense'].value_counts()"
   ]
  },
  {
   "cell_type": "code",
   "execution_count": 88,
   "metadata": {},
   "outputs": [],
   "source": [
    "ctd_merge['rfm_score']= ((ctd_merge['Rank_recency_dense'] + ctd_merge['Rank_freq_dense']+ctd_merge['Rank_monetary_dense'])/3).astype(int)"
   ]
  },
  {
   "cell_type": "code",
   "execution_count": 89,
   "metadata": {},
   "outputs": [],
   "source": [
    "criteria = [ctd_merge['rfm_score'].between(0, 100), ctd_merge['rfm_score'].between(101, 300), ctd_merge['rfm_score'].between(301, 500),ctd_merge['rfm_score'].between(501, 700), ctd_merge['rfm_score'].between(701, 900)]\n",
    "values = [1, 2, 3, 4,5]\n",
    "\n",
    "ctd_merge['rfm_rank'] = np.select(criteria, values, 5)"
   ]
  },
  {
   "cell_type": "code",
   "execution_count": 90,
   "metadata": {},
   "outputs": [
    {
     "data": {
      "text/html": [
       "<div>\n",
       "<style scoped>\n",
       "    .dataframe tbody tr th:only-of-type {\n",
       "        vertical-align: middle;\n",
       "    }\n",
       "\n",
       "    .dataframe tbody tr th {\n",
       "        vertical-align: top;\n",
       "    }\n",
       "\n",
       "    .dataframe thead th {\n",
       "        text-align: right;\n",
       "    }\n",
       "</style>\n",
       "<table border=\"1\" class=\"dataframe\">\n",
       "  <thead>\n",
       "    <tr style=\"text-align: right;\">\n",
       "      <th></th>\n",
       "      <th>customer_id</th>\n",
       "      <th>Recency</th>\n",
       "      <th>Frequency</th>\n",
       "      <th>Monetary</th>\n",
       "      <th>Rank_recency_dense</th>\n",
       "      <th>Rank_freq_dense</th>\n",
       "      <th>Rank_monetary_dense</th>\n",
       "      <th>rfm_score</th>\n",
       "      <th>rfm_rank</th>\n",
       "    </tr>\n",
       "  </thead>\n",
       "  <tbody>\n",
       "    <tr>\n",
       "      <th>0</th>\n",
       "      <td>1</td>\n",
       "      <td>6</td>\n",
       "      <td>33</td>\n",
       "      <td>75022.24</td>\n",
       "      <td>7</td>\n",
       "      <td>148</td>\n",
       "      <td>520</td>\n",
       "      <td>225</td>\n",
       "      <td>2</td>\n",
       "    </tr>\n",
       "    <tr>\n",
       "      <th>1</th>\n",
       "      <td>2</td>\n",
       "      <td>22</td>\n",
       "      <td>28</td>\n",
       "      <td>34551.57</td>\n",
       "      <td>23</td>\n",
       "      <td>153</td>\n",
       "      <td>1110</td>\n",
       "      <td>428</td>\n",
       "      <td>3</td>\n",
       "    </tr>\n",
       "    <tr>\n",
       "      <th>2</th>\n",
       "      <td>3</td>\n",
       "      <td>1</td>\n",
       "      <td>29</td>\n",
       "      <td>76057.24</td>\n",
       "      <td>2</td>\n",
       "      <td>152</td>\n",
       "      <td>512</td>\n",
       "      <td>222</td>\n",
       "      <td>2</td>\n",
       "    </tr>\n",
       "    <tr>\n",
       "      <th>3</th>\n",
       "      <td>4</td>\n",
       "      <td>9</td>\n",
       "      <td>22</td>\n",
       "      <td>34199.71</td>\n",
       "      <td>10</td>\n",
       "      <td>159</td>\n",
       "      <td>1121</td>\n",
       "      <td>430</td>\n",
       "      <td>3</td>\n",
       "    </tr>\n",
       "    <tr>\n",
       "      <th>4</th>\n",
       "      <td>5</td>\n",
       "      <td>1</td>\n",
       "      <td>92</td>\n",
       "      <td>70552.77</td>\n",
       "      <td>2</td>\n",
       "      <td>89</td>\n",
       "      <td>566</td>\n",
       "      <td>219</td>\n",
       "      <td>2</td>\n",
       "    </tr>\n",
       "  </tbody>\n",
       "</table>\n",
       "</div>"
      ],
      "text/plain": [
       "   customer_id  Recency  Frequency  Monetary  Rank_recency_dense  \\\n",
       "0            1        6         33  75022.24                   7   \n",
       "1            2       22         28  34551.57                  23   \n",
       "2            3        1         29  76057.24                   2   \n",
       "3            4        9         22  34199.71                  10   \n",
       "4            5        1         92  70552.77                   2   \n",
       "\n",
       "   Rank_freq_dense  Rank_monetary_dense  rfm_score  rfm_rank  \n",
       "0              148                  520        225         2  \n",
       "1              153                 1110        428         3  \n",
       "2              152                  512        222         2  \n",
       "3              159                 1121        430         3  \n",
       "4               89                  566        219         2  "
      ]
     },
     "execution_count": 90,
     "metadata": {},
     "output_type": "execute_result"
    }
   ],
   "source": [
    "ctd_merge.head()"
   ]
  },
  {
   "cell_type": "code",
   "execution_count": 91,
   "metadata": {},
   "outputs": [
    {
     "data": {
      "text/plain": [
       "<matplotlib.collections.PathCollection at 0x1966bb3e748>"
      ]
     },
     "execution_count": 91,
     "metadata": {},
     "output_type": "execute_result"
    },
    {
     "data": {
      "image/png": "[encoded data removed]",
      "text/plain": [
       "<Figure size 432x288 with 1 Axes>"
      ]
     },
     "metadata": {
      "needs_background": "light"
     },
     "output_type": "display_data"
    }
   ],
   "source": [
    "plt.scatter(ctd_merge.customer_id,ctd_merge.rfm_rank, marker='o')"
   ]
  },
  {
   "cell_type": "code",
   "execution_count": 92,
   "metadata": {},
   "outputs": [
    {
     "data": {
      "text/plain": [
       "<matplotlib.axes._subplots.AxesSubplot at 0x1966f96f518>"
      ]
     },
     "execution_count": 92,
     "metadata": {},
     "output_type": "execute_result"
    },
    {
     "data": {
      "image/png": "[encoded data removed]",
      "text/plain": [
       "<Figure size 432x288 with 1 Axes>"
      ]
     },
     "metadata": {
      "needs_background": "light"
     },
     "output_type": "display_data"
    }
   ],
   "source": [
    "ctd_merge['rfm_rank'].plot(kind='hist')"
   ]
  },
  {
   "cell_type": "code",
   "execution_count": 93,
   "metadata": {},
   "outputs": [
    {
     "data": {
      "text/plain": [
       "3    577\n",
       "2    563\n",
       "4    239\n",
       "1    202\n",
       "Name: rfm_rank, dtype: int64"
      ]
     },
     "execution_count": 93,
     "metadata": {},
     "output_type": "execute_result"
    }
   ],
   "source": [
    "ctd_merge['rfm_rank'].value_counts()"
   ]
  },
  {
   "cell_type": "code",
   "execution_count": 94,
   "metadata": {},
   "outputs": [
    {
     "data": {
      "text/html": [
       "<div>\n",
       "<style scoped>\n",
       "    .dataframe tbody tr th:only-of-type {\n",
       "        vertical-align: middle;\n",
       "    }\n",
       "\n",
       "    .dataframe tbody tr th {\n",
       "        vertical-align: top;\n",
       "    }\n",
       "\n",
       "    .dataframe thead th {\n",
       "        text-align: right;\n",
       "    }\n",
       "</style>\n",
       "<table border=\"1\" class=\"dataframe\">\n",
       "  <thead>\n",
       "    <tr style=\"text-align: right;\">\n",
       "      <th></th>\n",
       "      <th>customer_id</th>\n",
       "      <th>Recency</th>\n",
       "      <th>Frequency</th>\n",
       "      <th>Monetary</th>\n",
       "      <th>Rank_recency_dense</th>\n",
       "      <th>Rank_freq_dense</th>\n",
       "      <th>Rank_monetary_dense</th>\n",
       "      <th>rfm_score</th>\n",
       "      <th>rfm_rank</th>\n",
       "    </tr>\n",
       "  </thead>\n",
       "  <tbody>\n",
       "    <tr>\n",
       "      <th>0</th>\n",
       "      <td>1</td>\n",
       "      <td>6</td>\n",
       "      <td>33</td>\n",
       "      <td>75022.24</td>\n",
       "      <td>7</td>\n",
       "      <td>148</td>\n",
       "      <td>520</td>\n",
       "      <td>225</td>\n",
       "      <td>2</td>\n",
       "    </tr>\n",
       "    <tr>\n",
       "      <th>1</th>\n",
       "      <td>2</td>\n",
       "      <td>22</td>\n",
       "      <td>28</td>\n",
       "      <td>34551.57</td>\n",
       "      <td>23</td>\n",
       "      <td>153</td>\n",
       "      <td>1110</td>\n",
       "      <td>428</td>\n",
       "      <td>3</td>\n",
       "    </tr>\n",
       "    <tr>\n",
       "      <th>2</th>\n",
       "      <td>3</td>\n",
       "      <td>1</td>\n",
       "      <td>29</td>\n",
       "      <td>76057.24</td>\n",
       "      <td>2</td>\n",
       "      <td>152</td>\n",
       "      <td>512</td>\n",
       "      <td>222</td>\n",
       "      <td>2</td>\n",
       "    </tr>\n",
       "    <tr>\n",
       "      <th>3</th>\n",
       "      <td>4</td>\n",
       "      <td>9</td>\n",
       "      <td>22</td>\n",
       "      <td>34199.71</td>\n",
       "      <td>10</td>\n",
       "      <td>159</td>\n",
       "      <td>1121</td>\n",
       "      <td>430</td>\n",
       "      <td>3</td>\n",
       "    </tr>\n",
       "    <tr>\n",
       "      <th>4</th>\n",
       "      <td>5</td>\n",
       "      <td>1</td>\n",
       "      <td>92</td>\n",
       "      <td>70552.77</td>\n",
       "      <td>2</td>\n",
       "      <td>89</td>\n",
       "      <td>566</td>\n",
       "      <td>219</td>\n",
       "      <td>2</td>\n",
       "    </tr>\n",
       "  </tbody>\n",
       "</table>\n",
       "</div>"
      ],
      "text/plain": [
       "   customer_id  Recency  Frequency  Monetary  Rank_recency_dense  \\\n",
       "0            1        6         33  75022.24                   7   \n",
       "1            2       22         28  34551.57                  23   \n",
       "2            3        1         29  76057.24                   2   \n",
       "3            4        9         22  34199.71                  10   \n",
       "4            5        1         92  70552.77                   2   \n",
       "\n",
       "   Rank_freq_dense  Rank_monetary_dense  rfm_score  rfm_rank  \n",
       "0              148                  520        225         2  \n",
       "1              153                 1110        428         3  \n",
       "2              152                  512        222         2  \n",
       "3              159                 1121        430         3  \n",
       "4               89                  566        219         2  "
      ]
     },
     "execution_count": 94,
     "metadata": {},
     "output_type": "execute_result"
    }
   ],
   "source": [
    "ctd_merge.head()"
   ]
  },
  {
   "cell_type": "markdown",
   "metadata": {},
   "source": [
    "This is the final dataset"
   ]
  }
 ],
 "metadata": {
  "kernelspec": {
   "display_name": "Python 3",
   "language": "python",
   "name": "python3"
  },
  "language_info": {
   "codemirror_mode": {
    "name": "ipython",
    "version": 3
   },
   "file_extension": ".py",
   "mimetype": "text/x-python",
   "name": "python",
   "nbconvert_exporter": "python",
   "pygments_lexer": "ipython3",
   "version": "3.6.0"
  }
 },
 "nbformat": 4,
 "nbformat_minor": 2
}
